{
  "nbformat": 4,
  "nbformat_minor": 0,
  "metadata": {
    "colab": {
      "provenance": [],
      "collapsed_sections": [],
      "authorship_tag": "ABX9TyN9YoeAYzM17g5mG49jAZHV",
      "include_colab_link": true
    },
    "kernelspec": {
      "name": "python3",
      "display_name": "Python 3"
    },
    "language_info": {
      "name": "python"
    }
  },
  "cells": [
    {
      "cell_type": "markdown",
      "metadata": {
        "id": "view-in-github",
        "colab_type": "text"
      },
      "source": [
        "<a href=\"https://colab.research.google.com/github/Ramya1410/Data-Science-Internship/blob/main/Assignment1_RamyaRK.ipynb\" target=\"_parent\"><img src=\"https://colab.research.google.com/assets/colab-badge.svg\" alt=\"Open In Colab\"/></a>"
      ]
    },
    {
      "cell_type": "code",
      "source": [
        "print('hello there')"
      ],
      "metadata": {
        "colab": {
          "base_uri": "https://localhost:8080/"
        },
        "id": "mgMaDfFrT_y8",
        "outputId": "c3639956-2116-4595-d402-a58bb698381b"
      },
      "execution_count": null,
      "outputs": [
        {
          "output_type": "stream",
          "name": "stdout",
          "text": [
            "hello there\n"
          ]
        }
      ]
    },
    {
      "cell_type": "markdown",
      "source": [
        "Problem **1**"
      ],
      "metadata": {
        "id": "OBriWRQ6UcOS"
      }
    },
    {
      "cell_type": "code",
      "execution_count": null,
      "metadata": {
        "id": "6wkzA2U5T3ma"
      },
      "outputs": [],
      "source": [
        "import numpy as np\n",
        "m,n,a = [int(x) for x in input(\"enter values of m,n and a\").split()]\n",
        "print('enter numbers for 1st matrix')\n",
        "entries = list(map(float, input().split()))\n",
        "matrix1 = np.array(entries).reshape(m, n)\n",
        "print('enter numbers for 2nd matrix')\n",
        "entries = list(map(float, input().split()))\n",
        "matrix2 = np.array(entries).reshape(n, a)\n",
        "res = np.dot(matrix1,matrix2)\n",
        "print(res)"
      ]
    },
    {
      "cell_type": "markdown",
      "source": [
        "Problem **2**"
      ],
      "metadata": {
        "id": "9B7sTdNUUf4D"
      }
    },
    {
      "cell_type": "code",
      "source": [
        "entries = list(input().split())\n",
        "digits = [i.isdigit() for i in entries]\n",
        "lowercase = [i.islower() for i in entries] \n",
        "uppercase = [i.isupper() for i in entries]\n",
        "print(digits, lowercase, uppercase,sep='\\n')"
      ],
      "metadata": {
        "id": "CAN2sLpFUIIg"
      },
      "execution_count": null,
      "outputs": []
    },
    {
      "cell_type": "markdown",
      "source": [
        "Problem **3**"
      ],
      "metadata": {
        "id": "Y3UTstDLUmmv"
      }
    },
    {
      "cell_type": "code",
      "source": [
        "x,y = [int(i) for i in input('enter 2 numbers: ').split()]\n",
        "len = 15\n",
        "list1 = [i+x for i in range(-x+1,len*x,x)]\n",
        "print('list 1: ')\n",
        "print(list1)\n",
        "list2 = [i+y for i in range(-y+1,len*y,y)]\n",
        "print('list 2: ')\n",
        "print(list2)\n",
        "np1 = np.array(list1)\n",
        "np2 = np.array(list2)\n",
        "print('array 1 and array 2: ')\n",
        "print(np1, np2, sep='\\n')\n",
        "np1 = np.array(list1).reshape(4,4)\n",
        "np2 = np.array(list2).reshape(4,4)\n",
        "print('array 1 and array 2 after reshaping: ')\n",
        "print(np1, np2, sep='\\n')\n",
        "np3 = np.subtract(np1,np2)\n",
        "print('difference between 2 arrays is : ')\n",
        "print(np3)\n",
        "list3 = [j for i in np3 for j in i]\n",
        "print(list3)"
      ],
      "metadata": {
        "id": "NsFdbv7iUJST"
      },
      "execution_count": null,
      "outputs": []
    },
    {
      "cell_type": "markdown",
      "source": [
        "Problem **4**"
      ],
      "metadata": {
        "id": "ZMM3FmygUoMB"
      }
    },
    {
      "cell_type": "code",
      "source": [
        "list1 = [int(i) for i in input(\"enter numbers for array 1: \").split()]\n",
        "list2 = [int(i) for i in input(\"enter numbers for array 2: \").split()]\n",
        "p = np.array(list1).reshape(3,3)\n",
        "q = np.array(list2).reshape(3,3)\n",
        "r = np.subtract(p,q)\n",
        "print(\"output matrix after subtraction: \")\n",
        "print(r)"
      ],
      "metadata": {
        "id": "t1zCgk_aUO2H"
      },
      "execution_count": null,
      "outputs": []
    }
  ]
}